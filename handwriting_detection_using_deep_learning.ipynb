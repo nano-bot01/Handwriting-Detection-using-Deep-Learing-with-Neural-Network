{
 "cells": [
  {
   "cell_type": "code",
   "execution_count": 1,
   "id": "47183279",
   "metadata": {},
   "outputs": [],
   "source": [
    "import tensorflow as tf\n",
    "\n",
    "from tensorflow import keras\n",
    "import matplotlib.pyplot as plt\n",
    "%matplotlib inline\n",
    "import numpy as np"
   ]
  },
  {
   "cell_type": "code",
   "execution_count": 2,
   "id": "7816d0e4",
   "metadata": {},
   "outputs": [],
   "source": [
    "(X_train, y_train), (X_test, y_test) = keras.datasets.mnist.load_data()\n",
    "\n",
    "# this will load dataset from googleapis into x_train, y_train, x_test and y_test"
   ]
  },
  {
   "cell_type": "code",
   "execution_count": null,
   "id": "4aeee921",
   "metadata": {},
   "outputs": [],
   "source": []
  },
  {
   "cell_type": "code",
   "execution_count": null,
   "id": "a2d4fec8",
   "metadata": {},
   "outputs": [],
   "source": []
  },
  {
   "cell_type": "code",
   "execution_count": 3,
   "id": "70b782e3",
   "metadata": {},
   "outputs": [
    {
     "data": {
      "text/plain": [
       "60000"
      ]
     },
     "execution_count": 3,
     "metadata": {},
     "output_type": "execute_result"
    }
   ],
   "source": [
    "len(X_train)"
   ]
  },
  {
   "cell_type": "code",
   "execution_count": 4,
   "id": "31372e66",
   "metadata": {},
   "outputs": [
    {
     "data": {
      "text/plain": [
       "60000"
      ]
     },
     "execution_count": 4,
     "metadata": {},
     "output_type": "execute_result"
    }
   ],
   "source": [
    "len(y_train)"
   ]
  },
  {
   "cell_type": "code",
   "execution_count": 5,
   "id": "fcbaaf1f",
   "metadata": {},
   "outputs": [
    {
     "data": {
      "text/plain": [
       "10000"
      ]
     },
     "execution_count": 5,
     "metadata": {},
     "output_type": "execute_result"
    }
   ],
   "source": [
    "len(X_test)"
   ]
  },
  {
   "cell_type": "code",
   "execution_count": 6,
   "id": "5827ed8b",
   "metadata": {},
   "outputs": [
    {
     "data": {
      "text/plain": [
       "10000"
      ]
     },
     "execution_count": 6,
     "metadata": {},
     "output_type": "execute_result"
    }
   ],
   "source": [
    "len(y_test)"
   ]
  },
  {
   "cell_type": "code",
   "execution_count": 7,
   "id": "ea821679",
   "metadata": {},
   "outputs": [
    {
     "data": {
      "text/plain": [
       "(28, 28)"
      ]
     },
     "execution_count": 7,
     "metadata": {},
     "output_type": "execute_result"
    }
   ],
   "source": [
    "X_train[0].shape\n",
    "\n",
    "# shape for each each row"
   ]
  },
  {
   "cell_type": "code",
   "execution_count": 8,
   "id": "1a67dded",
   "metadata": {},
   "outputs": [
    {
     "data": {
      "text/plain": [
       "array([[  0,   0,   0,   0,   0,   0,   0,   0,   0,   0,   0,   0,   0,\n",
       "          0,   0,   0,   0,   0,   0,   0,   0,   0,   0,   0,   0,   0,\n",
       "          0,   0],\n",
       "       [  0,   0,   0,   0,   0,   0,   0,   0,   0,   0,   0,   0,   0,\n",
       "          0,   0,   0,   0,   0,   0,   0,   0,   0,   0,   0,   0,   0,\n",
       "          0,   0],\n",
       "       [  0,   0,   0,   0,   0,   0,   0,   0,   0,   0,   0,   0,   0,\n",
       "          0,   0,   0,   0,   0,   0,   0,   0,   0,   0,   0,   0,   0,\n",
       "          0,   0],\n",
       "       [  0,   0,   0,   0,   0,   0,   0,   0,   0,   0,   0,   0,   0,\n",
       "          0,   0,   0,   0,   0,   0,   0,   0,   0,   0,   0,   0,   0,\n",
       "          0,   0],\n",
       "       [  0,   0,   0,   0,   0,   0,   0,   0,   0,   0,   0,   0,   0,\n",
       "          0,   0,   0,   0,   0,   0,   0,   0,   0,   0,   0,   0,   0,\n",
       "          0,   0],\n",
       "       [  0,   0,   0,   0,   0,   0,   0,   0,   0,   0,   0,   0,   3,\n",
       "         18,  18,  18, 126, 136, 175,  26, 166, 255, 247, 127,   0,   0,\n",
       "          0,   0],\n",
       "       [  0,   0,   0,   0,   0,   0,   0,   0,  30,  36,  94, 154, 170,\n",
       "        253, 253, 253, 253, 253, 225, 172, 253, 242, 195,  64,   0,   0,\n",
       "          0,   0],\n",
       "       [  0,   0,   0,   0,   0,   0,   0,  49, 238, 253, 253, 253, 253,\n",
       "        253, 253, 253, 253, 251,  93,  82,  82,  56,  39,   0,   0,   0,\n",
       "          0,   0],\n",
       "       [  0,   0,   0,   0,   0,   0,   0,  18, 219, 253, 253, 253, 253,\n",
       "        253, 198, 182, 247, 241,   0,   0,   0,   0,   0,   0,   0,   0,\n",
       "          0,   0],\n",
       "       [  0,   0,   0,   0,   0,   0,   0,   0,  80, 156, 107, 253, 253,\n",
       "        205,  11,   0,  43, 154,   0,   0,   0,   0,   0,   0,   0,   0,\n",
       "          0,   0],\n",
       "       [  0,   0,   0,   0,   0,   0,   0,   0,   0,  14,   1, 154, 253,\n",
       "         90,   0,   0,   0,   0,   0,   0,   0,   0,   0,   0,   0,   0,\n",
       "          0,   0],\n",
       "       [  0,   0,   0,   0,   0,   0,   0,   0,   0,   0,   0, 139, 253,\n",
       "        190,   2,   0,   0,   0,   0,   0,   0,   0,   0,   0,   0,   0,\n",
       "          0,   0],\n",
       "       [  0,   0,   0,   0,   0,   0,   0,   0,   0,   0,   0,  11, 190,\n",
       "        253,  70,   0,   0,   0,   0,   0,   0,   0,   0,   0,   0,   0,\n",
       "          0,   0],\n",
       "       [  0,   0,   0,   0,   0,   0,   0,   0,   0,   0,   0,   0,  35,\n",
       "        241, 225, 160, 108,   1,   0,   0,   0,   0,   0,   0,   0,   0,\n",
       "          0,   0],\n",
       "       [  0,   0,   0,   0,   0,   0,   0,   0,   0,   0,   0,   0,   0,\n",
       "         81, 240, 253, 253, 119,  25,   0,   0,   0,   0,   0,   0,   0,\n",
       "          0,   0],\n",
       "       [  0,   0,   0,   0,   0,   0,   0,   0,   0,   0,   0,   0,   0,\n",
       "          0,  45, 186, 253, 253, 150,  27,   0,   0,   0,   0,   0,   0,\n",
       "          0,   0],\n",
       "       [  0,   0,   0,   0,   0,   0,   0,   0,   0,   0,   0,   0,   0,\n",
       "          0,   0,  16,  93, 252, 253, 187,   0,   0,   0,   0,   0,   0,\n",
       "          0,   0],\n",
       "       [  0,   0,   0,   0,   0,   0,   0,   0,   0,   0,   0,   0,   0,\n",
       "          0,   0,   0,   0, 249, 253, 249,  64,   0,   0,   0,   0,   0,\n",
       "          0,   0],\n",
       "       [  0,   0,   0,   0,   0,   0,   0,   0,   0,   0,   0,   0,   0,\n",
       "          0,  46, 130, 183, 253, 253, 207,   2,   0,   0,   0,   0,   0,\n",
       "          0,   0],\n",
       "       [  0,   0,   0,   0,   0,   0,   0,   0,   0,   0,   0,   0,  39,\n",
       "        148, 229, 253, 253, 253, 250, 182,   0,   0,   0,   0,   0,   0,\n",
       "          0,   0],\n",
       "       [  0,   0,   0,   0,   0,   0,   0,   0,   0,   0,  24, 114, 221,\n",
       "        253, 253, 253, 253, 201,  78,   0,   0,   0,   0,   0,   0,   0,\n",
       "          0,   0],\n",
       "       [  0,   0,   0,   0,   0,   0,   0,   0,  23,  66, 213, 253, 253,\n",
       "        253, 253, 198,  81,   2,   0,   0,   0,   0,   0,   0,   0,   0,\n",
       "          0,   0],\n",
       "       [  0,   0,   0,   0,   0,   0,  18, 171, 219, 253, 253, 253, 253,\n",
       "        195,  80,   9,   0,   0,   0,   0,   0,   0,   0,   0,   0,   0,\n",
       "          0,   0],\n",
       "       [  0,   0,   0,   0,  55, 172, 226, 253, 253, 253, 253, 244, 133,\n",
       "         11,   0,   0,   0,   0,   0,   0,   0,   0,   0,   0,   0,   0,\n",
       "          0,   0],\n",
       "       [  0,   0,   0,   0, 136, 253, 253, 253, 212, 135, 132,  16,   0,\n",
       "          0,   0,   0,   0,   0,   0,   0,   0,   0,   0,   0,   0,   0,\n",
       "          0,   0],\n",
       "       [  0,   0,   0,   0,   0,   0,   0,   0,   0,   0,   0,   0,   0,\n",
       "          0,   0,   0,   0,   0,   0,   0,   0,   0,   0,   0,   0,   0,\n",
       "          0,   0],\n",
       "       [  0,   0,   0,   0,   0,   0,   0,   0,   0,   0,   0,   0,   0,\n",
       "          0,   0,   0,   0,   0,   0,   0,   0,   0,   0,   0,   0,   0,\n",
       "          0,   0],\n",
       "       [  0,   0,   0,   0,   0,   0,   0,   0,   0,   0,   0,   0,   0,\n",
       "          0,   0,   0,   0,   0,   0,   0,   0,   0,   0,   0,   0,   0,\n",
       "          0,   0]], dtype=uint8)"
      ]
     },
     "execution_count": 8,
     "metadata": {},
     "output_type": "execute_result"
    }
   ],
   "source": [
    "X_train[0]\n",
    "\n",
    "# first row "
   ]
  },
  {
   "cell_type": "code",
   "execution_count": 9,
   "id": "8f03b788",
   "metadata": {},
   "outputs": [
    {
     "data": {
      "text/plain": [
       "<matplotlib.image.AxesImage at 0x1e112f6aa30>"
      ]
     },
     "execution_count": 9,
     "metadata": {},
     "output_type": "execute_result"
    },
    {
     "data": {
      "image/png": "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\n",
      "text/plain": [
       "<Figure size 288x288 with 1 Axes>"
      ]
     },
     "metadata": {
      "needs_background": "light"
     },
     "output_type": "display_data"
    }
   ],
   "source": [
    "plt.matshow(X_train[0])"
   ]
  },
  {
   "cell_type": "code",
   "execution_count": 10,
   "id": "1c235855",
   "metadata": {},
   "outputs": [
    {
     "data": {
      "text/plain": [
       "<matplotlib.image.AxesImage at 0x1e1130694f0>"
      ]
     },
     "execution_count": 10,
     "metadata": {},
     "output_type": "execute_result"
    },
    {
     "data": {
      "image/png": "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\n",
      "text/plain": [
       "<Figure size 288x288 with 1 Axes>"
      ]
     },
     "metadata": {
      "needs_background": "light"
     },
     "output_type": "display_data"
    }
   ],
   "source": [
    "plt.matshow(X_train[1])"
   ]
  },
  {
   "cell_type": "code",
   "execution_count": 11,
   "id": "2ee314dd",
   "metadata": {},
   "outputs": [
    {
     "data": {
      "text/plain": [
       "<matplotlib.image.AxesImage at 0x1e1130d3d90>"
      ]
     },
     "execution_count": 11,
     "metadata": {},
     "output_type": "execute_result"
    },
    {
     "data": {
      "image/png": "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\n",
      "text/plain": [
       "<Figure size 288x288 with 1 Axes>"
      ]
     },
     "metadata": {
      "needs_background": "light"
     },
     "output_type": "display_data"
    }
   ],
   "source": [
    "plt.matshow(X_train[2])"
   ]
  },
  {
   "cell_type": "code",
   "execution_count": 12,
   "id": "6e0c819f",
   "metadata": {},
   "outputs": [
    {
     "data": {
      "text/plain": [
       "<matplotlib.image.AxesImage at 0x1e1131434c0>"
      ]
     },
     "execution_count": 12,
     "metadata": {},
     "output_type": "execute_result"
    },
    {
     "data": {
      "image/png": "iVBORw0KGgoAAAANSUhEUgAAAQEAAAECCAYAAAD+eGJTAAAAOXRFWHRTb2Z0d2FyZQBNYXRwbG90bGliIHZlcnNpb24zLjUuMSwgaHR0cHM6Ly9tYXRwbG90bGliLm9yZy/YYfK9AAAACXBIWXMAAAsTAAALEwEAmpwYAAANWklEQVR4nO3df6zddX3H8dfLcttKwaWVFZpaxkZA50jWujvU4aAONcy4AX+g1sx0i9nFTDZZXDLSf+APzRoVlMQEU0alZsBCLL/+YNPa6JjBVS6sgZa7ibhSKtcWUjfApfW2970/7rfsWu79nNtzzvf7Pfe+n4+kOed83+ec77vftq9+vt/zuZ/jiBCAvN7QdgMA2kUIAMkRAkByhACQHCEAJEcIAMm1EgK2r7D9n7Z/ZPuGNnoosb3P9lO2d9seHYB+tto+ZHvPtG0rbO+w/Ux1u3zA+rvJ9k+qY7jb9gdb7G+N7e/YHrO91/anq+0DcQwL/TVyDN30PAHbiyT9UNL7JR2Q9JikDRHxdKONFNjeJ2k4Il5quxdJsn2ppFclfT0iLqq2fV7S4YjYXAXp8oj42wHq7yZJr0bEF9voaTrbqyStiognbJ8p6XFJV0n6Uw3AMSz092E1cAzbGAlcLOlHEfHjiPiFpH+UdGULfcwbEfGIpMMnbb5S0rbq/jZN/aVpxSz9DYyIGI+IJ6r7r0gak7RaA3IMC/01oo0QWC3p+WmPD6jB3/AchaRv2X7c9kjbzczi7IgYl6b+Ekla2XI/M7nO9pPV6UJrpyvT2T5P0jpJuzSAx/Ck/qQGjmEbIeAZtg3a3OVLIuIdkv5Q0qeq4S5OzW2Szpe0VtK4pJtb7UaS7TMkbZd0fUS83HY/J5uhv0aOYRshcEDSmmmP3yLphRb6mFVEvFDdHpJ0v6ZOYQbNwepc8sQ55aGW+/klEXEwIo5HxKSk29XyMbQ9pKl/YHdFxH3V5oE5hjP119QxbCMEHpN0ge1ft71Y0kclPdRCHzOyvay6OCPbyyR9QNKe8qta8ZCkjdX9jZIebLGX1znxj6tytVo8hrYt6Q5JYxFxy7TSQBzD2fpr6hg2/umAJFUfdXxZ0iJJWyPic403MQvbv6Gp//0l6TRJd7fdn+17JK2XdJakg5JulPSApHslnStpv6RrIqKVi3Oz9LdeU8PYkLRP0rUnzr9b6O89kv5V0lOSJqvNmzR13t36MSz0t0ENHMNWQgDA4GDGIJAcIQAkRwgAyRECQHKEAJBcqyEwwFNyJdFfrwa5v0HuTWq2v7ZHAgP9ByH669Ug9zfIvUkN9td2CABoWU+ThWxfIelWTc38+/uI2Fx6/mIviaVa9trjCR3VkJZ0vf+60V9vBrm/Qe5N6n9/R/Rz/SKOzvTDe92HQDeLg7zJK+Kdvryr/QHo3q7YqZfj8Iwh0MvpAIuDAAtALyEwHxYHAdDBaT28dk6Lg1QfdYxI0lKd3sPuANShl5HAnBYHiYgtETEcEcODfCEGyKqXEBjoxUEAzE3XpwMRccz2dZK+qf9fHGRv3zoD0IhergkoIh6W9HCfegHQAmYMAskRAkByhACQHCEAJEcIAMkRAkByhACQHCEAJEcIAMkRAkByhACQHCEAJEcIAMkRAkByhACQHCEAJEcIAMkRAkByhACQHCEAJEcIAMkRAkByhACQHCEAJEcIAMkRAkByhACQHCEAJEcIAMkRAkByPX01OdCkZ7/w7mJ97GNfKdaHvKhYv/QvRor1Nz7wg2J9vuopBGzvk/SKpOOSjkXEcD+aAtCcfowE3hsRL/XhfQC0gGsCQHK9hkBI+pbtx22XT6gADKReTwcuiYgXbK+UtMP2f0TEI9OfUIXDiCQt1ek97g5Av/U0EoiIF6rbQ5Lul3TxDM/ZEhHDETE8pCW97A5ADboOAdvLbJ954r6kD0ja06/GADSjl9OBsyXdb/vE+9wdEf/cl66Q0k//+veK9e9+5PPF+kQs7q2B6O3l81XXIRARP5b0233sBUAL+IgQSI4QAJIjBIDkCAEgOUIASI4QAJJjPQEMjFfXTBbrK97Q4zwAzIiRAJAcIQAkRwgAyRECQHKEAJAcIQAkRwgAyTFPAI159Zp3Fuvbr761wzu4WP3qf7+tWP/2h8sr4i97bm+xXp7FMH8xEgCSIwSA5AgBIDlCAEiOEACSIwSA5AgBIDnmCaBvjnzodV9A9Utu/LutxfqFQ+V5AJ1su/2KYv2cpx/t6f0XKkYCQHKEAJAcIQAkRwgAyRECQHKEAJAcIQAkxzwB9M34nxwp1t/7xnJdWlSsbtz3vmL9nFuZB9CNjiMB21ttH7K9Z9q2FbZ32H6mul1eb5sA6jKX04E7JZ08FesGSTsj4gJJO6vHAOahjiEQEY9IOnzS5islbavub5N0VX/bAtCUbi8Mnh0R45JU3a7sX0sAmlT7hUHbI5JGJGmpTq97dwBOUbcjgYO2V0lSdXtotidGxJaIGI6I4SEt6XJ3AOrSbQg8JGljdX+jpAf70w6ApnU8HbB9j6T1ks6yfUDSjZI2S7rX9ick7Zd0TZ1NYjCc9pbVxfre3/9asT4Rx4v1sYny/vffcmGxvky7ym+AGXUMgYjYMEvp8j73AqAFTBsGkiMEgOQIASA5QgBIjhAAkiMEgORYTwCvWfRbby3Wh+/eU6z36iP3/VWxfv72f6t1/1kxEgCSIwSA5AgBIDlCAEiOEACSIwSA5AgBIDnmCeA1z/3xm4v1b7z53zu8Q/l7Az727B8V6xdufrZYL69GgG4xEgCSIwSA5AgBIDlCAEiOEACSIwSA5AgBIDnmCSRy+M/eXazf/8kvdHiHoWL1k89fVqxPbCx/A9XxF/d32D/qwEgASI4QAJIjBIDkCAEgOUIASI4QAJIjBIDkmCewgHT63oBHP/uVDu+wtKf9f//AecX6mn31fm8ButNxJGB7q+1DtvdM23aT7Z/Y3l39+mC9bQKoy1xOB+6UdMUM278UEWurXw/3ty0ATekYAhHxiKTDDfQCoAW9XBi8zvaT1enC8r51BKBR3YbAbZLOl7RW0rikm2d7ou0R26O2Ryd0tMvdAahLVyEQEQcj4nhETEq6XdLFheduiYjhiBgeUvmnyAA0r6sQsL1q2sOrJfHZDzBPdZwnYPseSeslnWX7gKQbJa23vVZSSNon6dr6WsRc/XDT6cX6RNS7cv+5m8v1qHXv6FbHEIiIDTNsvqOGXgC0gGnDQHKEAJAcIQAkRwgAyRECQHKEAJAc6wnMI5OXrSvWPzv8QK37f/+ejxbrZ4wyZ2w+YiQAJEcIAMkRAkByhACQHCEAJEcIAMkRAkByzBOYRz5355Zi/aKh3n5i/2/GLy3Wf2XDz4r1elcrQF0YCQDJEQJAcoQAkBwhACRHCADJEQJAcoQAkBzzBOaRdYvLmd3r9wp8/2vvKNZX/uzRnt4fg4mRAJAcIQAkRwgAyRECQHKEAJAcIQAkRwgAyTFPYIA8/42LivUh7651/6u++1KxznoBC1PHkYDtNba/Y3vM9l7bn662r7C9w/Yz1e3y+tsF0G9zOR04JukzEfGbkt4l6VO23y7pBkk7I+ICSTurxwDmmY4hEBHjEfFEdf8VSWOSVku6UtK26mnbJF1VU48AanRKFwZtnydpnaRdks6OiHFpKigkrex7dwBqN+cQsH2GpO2Sro+Il0/hdSO2R22PTuhoNz0CqNGcQsD2kKYC4K6IuK/afND2qqq+StKhmV4bEVsiYjgihoe0pB89A+ijuXw6YEl3SBqLiFumlR6StLG6v1HSg/1vD0Dd5jJP4BJJH5f0lP3aB9WbJG2WdK/tT0jaL+maWjpcQCYvW1esf3ntPxTrndYL+J/JI8X67/7T9cX62557uljHwtQxBCLie5I8S/ny/rYDoGlMGwaSIwSA5AgBIDlCAEiOEACSIwSA5FhPoEFHViwu1t+z9Ocd3mFRsfrN/z23WL9w5LFifbLD3rEwMRIAkiMEgOQIASA5QgBIjhAAkiMEgOQIASA5QgBIjhAAkiMEgOQIASA5QgBIjhAAkiMEgOQIASA51hNo0Jt2/7RY/8sDf1Csf3XNv/SzHUASIwEgPUIASI4QAJIjBIDkCAEgOUIASI4QAJLrOE/A9hpJX5d0jqaWpt8SEbfavknSn0t6sXrqpoh4uK5GF4Jj//VcsX7gXeXXf0i/08dugClzmSx0TNJnIuIJ22dKetz2jqr2pYj4Yn3tAahbxxCIiHFJ49X9V2yPSVpdd2MAmnFK1wRsnydpnaRd1abrbD9pe6vt5f1uDkD95hwCts+QtF3S9RHxsqTbJJ0vaa2mRgo3z/K6EdujtkcndLT3jgH01ZxCwPaQpgLgroi4T5Ii4mBEHI+ISUm3S7p4ptdGxJaIGI6I4SEt6VffAPqkYwjYtqQ7JI1FxC3Ttq+a9rSrJe3pf3sA6jaXTwcukfRxSU/Z3l1t2yRpg+21kkLSPknX1tAfgJrN5dOB70nyDCXmBAALADMGgeQIASA5QgBIjhAAkiMEgOQIASA5QgBIjhAAkiMEgOQIASA5QgBIjhAAkiMEgOQIASA5QgBIzhHR3M7sFyVNX3z/LEkvNdbAqaO/3gxyf4Pcm9T//n4tIn51pkKjIfC6ndujETHcWgMd0F9vBrm/Qe5NarY/TgeA5AgBILm2Q2BLy/vvhP56M8j9DXJvUoP9tXpNAED72h4JAGgZIQAkRwgAyRECQHKEAJDc/wGEdZyn8wfx8gAAAABJRU5ErkJggg==\n",
      "text/plain": [
       "<Figure size 288x288 with 1 Axes>"
      ]
     },
     "metadata": {
      "needs_background": "light"
     },
     "output_type": "display_data"
    }
   ],
   "source": [
    "plt.matshow(X_train[3])"
   ]
  },
  {
   "cell_type": "code",
   "execution_count": 13,
   "id": "db715954",
   "metadata": {},
   "outputs": [
    {
     "name": "stdout",
     "output_type": "stream",
     "text": [
      "9\n",
      "2\n",
      "1\n",
      "3\n",
      "1\n",
      "4\n"
     ]
    },
    {
     "data": {
      "text/plain": [
       "<matplotlib.image.AxesImage at 0x1e1132f3550>"
      ]
     },
     "execution_count": 13,
     "metadata": {},
     "output_type": "execute_result"
    },
    {
     "data": {
      "image/png": "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\n",
      "text/plain": [
       "<Figure size 288x288 with 1 Axes>"
      ]
     },
     "metadata": {
      "needs_background": "light"
     },
     "output_type": "display_data"
    },
    {
     "data": {
      "image/png": "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\n",
      "text/plain": [
       "<Figure size 288x288 with 1 Axes>"
      ]
     },
     "metadata": {
      "needs_background": "light"
     },
     "output_type": "display_data"
    },
    {
     "data": {
      "image/png": "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\n",
      "text/plain": [
       "<Figure size 288x288 with 1 Axes>"
      ]
     },
     "metadata": {
      "needs_background": "light"
     },
     "output_type": "display_data"
    },
    {
     "data": {
      "image/png": "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\n",
      "text/plain": [
       "<Figure size 288x288 with 1 Axes>"
      ]
     },
     "metadata": {
      "needs_background": "light"
     },
     "output_type": "display_data"
    },
    {
     "data": {
      "image/png": "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\n",
      "text/plain": [
       "<Figure size 288x288 with 1 Axes>"
      ]
     },
     "metadata": {
      "needs_background": "light"
     },
     "output_type": "display_data"
    },
    {
     "data": {
      "image/png": "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\n",
      "text/plain": [
       "<Figure size 288x288 with 1 Axes>"
      ]
     },
     "metadata": {
      "needs_background": "light"
     },
     "output_type": "display_data"
    }
   ],
   "source": [
    "print(y_train[4])\n",
    "print(y_train[5])\n",
    "print(y_train[6])\n",
    "print(y_train[7])\n",
    "print(y_train[8])\n",
    "print(y_train[9])\n",
    "\n",
    "plt.matshow(X_train[4])\n",
    "plt.matshow(X_train[5])\n",
    "plt.matshow(X_train[6])\n",
    "plt.matshow(X_train[7])\n",
    "plt.matshow(X_train[8])\n",
    "plt.matshow(X_train[9])"
   ]
  },
  {
   "cell_type": "markdown",
   "id": "60aca414",
   "metadata": {},
   "source": [
    "### Dimensional Reduction of 2D data into 1D data"
   ]
  },
  {
   "cell_type": "code",
   "execution_count": 14,
   "id": "6888cfd4",
   "metadata": {},
   "outputs": [
    {
     "data": {
      "text/plain": [
       "(60000, 28, 28)"
      ]
     },
     "execution_count": 14,
     "metadata": {},
     "output_type": "execute_result"
    }
   ],
   "source": [
    " X_train.shape"
   ]
  },
  {
   "cell_type": "code",
   "execution_count": 21,
   "id": "115df12a",
   "metadata": {},
   "outputs": [],
   "source": [
    "# scaling values\n",
    "\n",
    "X_train = X_train/255\n",
    "X_test = X_test/255"
   ]
  },
  {
   "cell_type": "code",
   "execution_count": 26,
   "id": "07f9b894",
   "metadata": {},
   "outputs": [
    {
     "data": {
      "text/plain": [
       "array([[0.        , 0.        , 0.        , 0.        , 0.        ,\n",
       "        0.        , 0.        , 0.        , 0.        , 0.        ,\n",
       "        0.        , 0.        , 0.        , 0.        , 0.        ,\n",
       "        0.        , 0.        , 0.        , 0.        , 0.        ,\n",
       "        0.        , 0.        , 0.        , 0.        , 0.        ,\n",
       "        0.        , 0.        , 0.        ],\n",
       "       [0.        , 0.        , 0.        , 0.        , 0.        ,\n",
       "        0.        , 0.        , 0.        , 0.        , 0.        ,\n",
       "        0.        , 0.        , 0.        , 0.        , 0.        ,\n",
       "        0.        , 0.        , 0.        , 0.        , 0.        ,\n",
       "        0.        , 0.        , 0.        , 0.        , 0.        ,\n",
       "        0.        , 0.        , 0.        ],\n",
       "       [0.        , 0.        , 0.        , 0.        , 0.        ,\n",
       "        0.        , 0.        , 0.        , 0.        , 0.        ,\n",
       "        0.        , 0.        , 0.        , 0.        , 0.        ,\n",
       "        0.        , 0.        , 0.        , 0.        , 0.        ,\n",
       "        0.        , 0.        , 0.        , 0.        , 0.        ,\n",
       "        0.        , 0.        , 0.        ],\n",
       "       [0.        , 0.        , 0.        , 0.        , 0.        ,\n",
       "        0.        , 0.        , 0.        , 0.        , 0.        ,\n",
       "        0.        , 0.        , 0.        , 0.        , 0.        ,\n",
       "        0.        , 0.        , 0.        , 0.        , 0.        ,\n",
       "        0.        , 0.        , 0.        , 0.        , 0.        ,\n",
       "        0.        , 0.        , 0.        ],\n",
       "       [0.        , 0.        , 0.        , 0.        , 0.        ,\n",
       "        0.        , 0.        , 0.        , 0.        , 0.        ,\n",
       "        0.        , 0.        , 0.        , 0.        , 0.        ,\n",
       "        0.        , 0.        , 0.        , 0.        , 0.        ,\n",
       "        0.        , 0.        , 0.        , 0.        , 0.        ,\n",
       "        0.        , 0.        , 0.        ],\n",
       "       [0.        , 0.        , 0.        , 0.        , 0.        ,\n",
       "        0.        , 0.        , 0.        , 0.        , 0.        ,\n",
       "        0.        , 0.        , 0.01176471, 0.07058824, 0.07058824,\n",
       "        0.07058824, 0.49411765, 0.53333333, 0.68627451, 0.10196078,\n",
       "        0.65098039, 1.        , 0.96862745, 0.49803922, 0.        ,\n",
       "        0.        , 0.        , 0.        ],\n",
       "       [0.        , 0.        , 0.        , 0.        , 0.        ,\n",
       "        0.        , 0.        , 0.        , 0.11764706, 0.14117647,\n",
       "        0.36862745, 0.60392157, 0.66666667, 0.99215686, 0.99215686,\n",
       "        0.99215686, 0.99215686, 0.99215686, 0.88235294, 0.6745098 ,\n",
       "        0.99215686, 0.94901961, 0.76470588, 0.25098039, 0.        ,\n",
       "        0.        , 0.        , 0.        ],\n",
       "       [0.        , 0.        , 0.        , 0.        , 0.        ,\n",
       "        0.        , 0.        , 0.19215686, 0.93333333, 0.99215686,\n",
       "        0.99215686, 0.99215686, 0.99215686, 0.99215686, 0.99215686,\n",
       "        0.99215686, 0.99215686, 0.98431373, 0.36470588, 0.32156863,\n",
       "        0.32156863, 0.21960784, 0.15294118, 0.        , 0.        ,\n",
       "        0.        , 0.        , 0.        ],\n",
       "       [0.        , 0.        , 0.        , 0.        , 0.        ,\n",
       "        0.        , 0.        , 0.07058824, 0.85882353, 0.99215686,\n",
       "        0.99215686, 0.99215686, 0.99215686, 0.99215686, 0.77647059,\n",
       "        0.71372549, 0.96862745, 0.94509804, 0.        , 0.        ,\n",
       "        0.        , 0.        , 0.        , 0.        , 0.        ,\n",
       "        0.        , 0.        , 0.        ],\n",
       "       [0.        , 0.        , 0.        , 0.        , 0.        ,\n",
       "        0.        , 0.        , 0.        , 0.31372549, 0.61176471,\n",
       "        0.41960784, 0.99215686, 0.99215686, 0.80392157, 0.04313725,\n",
       "        0.        , 0.16862745, 0.60392157, 0.        , 0.        ,\n",
       "        0.        , 0.        , 0.        , 0.        , 0.        ,\n",
       "        0.        , 0.        , 0.        ],\n",
       "       [0.        , 0.        , 0.        , 0.        , 0.        ,\n",
       "        0.        , 0.        , 0.        , 0.        , 0.05490196,\n",
       "        0.00392157, 0.60392157, 0.99215686, 0.35294118, 0.        ,\n",
       "        0.        , 0.        , 0.        , 0.        , 0.        ,\n",
       "        0.        , 0.        , 0.        , 0.        , 0.        ,\n",
       "        0.        , 0.        , 0.        ],\n",
       "       [0.        , 0.        , 0.        , 0.        , 0.        ,\n",
       "        0.        , 0.        , 0.        , 0.        , 0.        ,\n",
       "        0.        , 0.54509804, 0.99215686, 0.74509804, 0.00784314,\n",
       "        0.        , 0.        , 0.        , 0.        , 0.        ,\n",
       "        0.        , 0.        , 0.        , 0.        , 0.        ,\n",
       "        0.        , 0.        , 0.        ],\n",
       "       [0.        , 0.        , 0.        , 0.        , 0.        ,\n",
       "        0.        , 0.        , 0.        , 0.        , 0.        ,\n",
       "        0.        , 0.04313725, 0.74509804, 0.99215686, 0.2745098 ,\n",
       "        0.        , 0.        , 0.        , 0.        , 0.        ,\n",
       "        0.        , 0.        , 0.        , 0.        , 0.        ,\n",
       "        0.        , 0.        , 0.        ],\n",
       "       [0.        , 0.        , 0.        , 0.        , 0.        ,\n",
       "        0.        , 0.        , 0.        , 0.        , 0.        ,\n",
       "        0.        , 0.        , 0.1372549 , 0.94509804, 0.88235294,\n",
       "        0.62745098, 0.42352941, 0.00392157, 0.        , 0.        ,\n",
       "        0.        , 0.        , 0.        , 0.        , 0.        ,\n",
       "        0.        , 0.        , 0.        ],\n",
       "       [0.        , 0.        , 0.        , 0.        , 0.        ,\n",
       "        0.        , 0.        , 0.        , 0.        , 0.        ,\n",
       "        0.        , 0.        , 0.        , 0.31764706, 0.94117647,\n",
       "        0.99215686, 0.99215686, 0.46666667, 0.09803922, 0.        ,\n",
       "        0.        , 0.        , 0.        , 0.        , 0.        ,\n",
       "        0.        , 0.        , 0.        ],\n",
       "       [0.        , 0.        , 0.        , 0.        , 0.        ,\n",
       "        0.        , 0.        , 0.        , 0.        , 0.        ,\n",
       "        0.        , 0.        , 0.        , 0.        , 0.17647059,\n",
       "        0.72941176, 0.99215686, 0.99215686, 0.58823529, 0.10588235,\n",
       "        0.        , 0.        , 0.        , 0.        , 0.        ,\n",
       "        0.        , 0.        , 0.        ],\n",
       "       [0.        , 0.        , 0.        , 0.        , 0.        ,\n",
       "        0.        , 0.        , 0.        , 0.        , 0.        ,\n",
       "        0.        , 0.        , 0.        , 0.        , 0.        ,\n",
       "        0.0627451 , 0.36470588, 0.98823529, 0.99215686, 0.73333333,\n",
       "        0.        , 0.        , 0.        , 0.        , 0.        ,\n",
       "        0.        , 0.        , 0.        ],\n",
       "       [0.        , 0.        , 0.        , 0.        , 0.        ,\n",
       "        0.        , 0.        , 0.        , 0.        , 0.        ,\n",
       "        0.        , 0.        , 0.        , 0.        , 0.        ,\n",
       "        0.        , 0.        , 0.97647059, 0.99215686, 0.97647059,\n",
       "        0.25098039, 0.        , 0.        , 0.        , 0.        ,\n",
       "        0.        , 0.        , 0.        ],\n",
       "       [0.        , 0.        , 0.        , 0.        , 0.        ,\n",
       "        0.        , 0.        , 0.        , 0.        , 0.        ,\n",
       "        0.        , 0.        , 0.        , 0.        , 0.18039216,\n",
       "        0.50980392, 0.71764706, 0.99215686, 0.99215686, 0.81176471,\n",
       "        0.00784314, 0.        , 0.        , 0.        , 0.        ,\n",
       "        0.        , 0.        , 0.        ],\n",
       "       [0.        , 0.        , 0.        , 0.        , 0.        ,\n",
       "        0.        , 0.        , 0.        , 0.        , 0.        ,\n",
       "        0.        , 0.        , 0.15294118, 0.58039216, 0.89803922,\n",
       "        0.99215686, 0.99215686, 0.99215686, 0.98039216, 0.71372549,\n",
       "        0.        , 0.        , 0.        , 0.        , 0.        ,\n",
       "        0.        , 0.        , 0.        ],\n",
       "       [0.        , 0.        , 0.        , 0.        , 0.        ,\n",
       "        0.        , 0.        , 0.        , 0.        , 0.        ,\n",
       "        0.09411765, 0.44705882, 0.86666667, 0.99215686, 0.99215686,\n",
       "        0.99215686, 0.99215686, 0.78823529, 0.30588235, 0.        ,\n",
       "        0.        , 0.        , 0.        , 0.        , 0.        ,\n",
       "        0.        , 0.        , 0.        ],\n",
       "       [0.        , 0.        , 0.        , 0.        , 0.        ,\n",
       "        0.        , 0.        , 0.        , 0.09019608, 0.25882353,\n",
       "        0.83529412, 0.99215686, 0.99215686, 0.99215686, 0.99215686,\n",
       "        0.77647059, 0.31764706, 0.00784314, 0.        , 0.        ,\n",
       "        0.        , 0.        , 0.        , 0.        , 0.        ,\n",
       "        0.        , 0.        , 0.        ],\n",
       "       [0.        , 0.        , 0.        , 0.        , 0.        ,\n",
       "        0.        , 0.07058824, 0.67058824, 0.85882353, 0.99215686,\n",
       "        0.99215686, 0.99215686, 0.99215686, 0.76470588, 0.31372549,\n",
       "        0.03529412, 0.        , 0.        , 0.        , 0.        ,\n",
       "        0.        , 0.        , 0.        , 0.        , 0.        ,\n",
       "        0.        , 0.        , 0.        ],\n",
       "       [0.        , 0.        , 0.        , 0.        , 0.21568627,\n",
       "        0.6745098 , 0.88627451, 0.99215686, 0.99215686, 0.99215686,\n",
       "        0.99215686, 0.95686275, 0.52156863, 0.04313725, 0.        ,\n",
       "        0.        , 0.        , 0.        , 0.        , 0.        ,\n",
       "        0.        , 0.        , 0.        , 0.        , 0.        ,\n",
       "        0.        , 0.        , 0.        ],\n",
       "       [0.        , 0.        , 0.        , 0.        , 0.53333333,\n",
       "        0.99215686, 0.99215686, 0.99215686, 0.83137255, 0.52941176,\n",
       "        0.51764706, 0.0627451 , 0.        , 0.        , 0.        ,\n",
       "        0.        , 0.        , 0.        , 0.        , 0.        ,\n",
       "        0.        , 0.        , 0.        , 0.        , 0.        ,\n",
       "        0.        , 0.        , 0.        ],\n",
       "       [0.        , 0.        , 0.        , 0.        , 0.        ,\n",
       "        0.        , 0.        , 0.        , 0.        , 0.        ,\n",
       "        0.        , 0.        , 0.        , 0.        , 0.        ,\n",
       "        0.        , 0.        , 0.        , 0.        , 0.        ,\n",
       "        0.        , 0.        , 0.        , 0.        , 0.        ,\n",
       "        0.        , 0.        , 0.        ],\n",
       "       [0.        , 0.        , 0.        , 0.        , 0.        ,\n",
       "        0.        , 0.        , 0.        , 0.        , 0.        ,\n",
       "        0.        , 0.        , 0.        , 0.        , 0.        ,\n",
       "        0.        , 0.        , 0.        , 0.        , 0.        ,\n",
       "        0.        , 0.        , 0.        , 0.        , 0.        ,\n",
       "        0.        , 0.        , 0.        ],\n",
       "       [0.        , 0.        , 0.        , 0.        , 0.        ,\n",
       "        0.        , 0.        , 0.        , 0.        , 0.        ,\n",
       "        0.        , 0.        , 0.        , 0.        , 0.        ,\n",
       "        0.        , 0.        , 0.        , 0.        , 0.        ,\n",
       "        0.        , 0.        , 0.        , 0.        , 0.        ,\n",
       "        0.        , 0.        , 0.        ]])"
      ]
     },
     "execution_count": 26,
     "metadata": {},
     "output_type": "execute_result"
    }
   ],
   "source": [
    "X_train[0]"
   ]
  },
  {
   "cell_type": "code",
   "execution_count": 22,
   "id": "f36c73d0",
   "metadata": {},
   "outputs": [
    {
     "data": {
      "text/plain": [
       "(60000, 784)"
      ]
     },
     "execution_count": 22,
     "metadata": {},
     "output_type": "execute_result"
    }
   ],
   "source": [
    "# reduction of 2D training data to 1 D\n",
    "X_train_flattened = X_train.reshape(len(X_train), 28*28)\n",
    "X_train_flattened.shape"
   ]
  },
  {
   "cell_type": "code",
   "execution_count": 23,
   "id": "6d3d23db",
   "metadata": {},
   "outputs": [
    {
     "data": {
      "text/plain": [
       "(10000, 784)"
      ]
     },
     "execution_count": 23,
     "metadata": {},
     "output_type": "execute_result"
    }
   ],
   "source": [
    "# reduction of 2D test data to 1 D\n",
    "\n",
    "X_test_flattened = X_test.reshape(len(X_test), 28*28)\n",
    "X_test_flattened.shape"
   ]
  },
  {
   "cell_type": "code",
   "execution_count": 24,
   "id": "fbadf5b6",
   "metadata": {},
   "outputs": [
    {
     "data": {
      "text/plain": [
       "array([0.        , 0.        , 0.        , 0.        , 0.        ,\n",
       "       0.        , 0.        , 0.        , 0.        , 0.        ,\n",
       "       0.        , 0.        , 0.        , 0.        , 0.        ,\n",
       "       0.        , 0.        , 0.        , 0.        , 0.        ,\n",
       "       0.        , 0.        , 0.        , 0.        , 0.        ,\n",
       "       0.        , 0.        , 0.        , 0.        , 0.        ,\n",
       "       0.        , 0.        , 0.        , 0.        , 0.        ,\n",
       "       0.        , 0.        , 0.        , 0.        , 0.        ,\n",
       "       0.        , 0.        , 0.        , 0.        , 0.        ,\n",
       "       0.        , 0.        , 0.        , 0.        , 0.        ,\n",
       "       0.        , 0.        , 0.        , 0.        , 0.        ,\n",
       "       0.        , 0.        , 0.        , 0.        , 0.        ,\n",
       "       0.        , 0.        , 0.        , 0.        , 0.        ,\n",
       "       0.        , 0.        , 0.        , 0.        , 0.        ,\n",
       "       0.        , 0.        , 0.        , 0.        , 0.        ,\n",
       "       0.        , 0.        , 0.        , 0.        , 0.        ,\n",
       "       0.        , 0.        , 0.        , 0.        , 0.        ,\n",
       "       0.        , 0.        , 0.        , 0.        , 0.        ,\n",
       "       0.        , 0.        , 0.        , 0.        , 0.        ,\n",
       "       0.        , 0.        , 0.        , 0.        , 0.        ,\n",
       "       0.        , 0.        , 0.        , 0.        , 0.        ,\n",
       "       0.        , 0.        , 0.        , 0.        , 0.        ,\n",
       "       0.        , 0.        , 0.        , 0.        , 0.        ,\n",
       "       0.        , 0.        , 0.        , 0.        , 0.        ,\n",
       "       0.        , 0.        , 0.        , 0.        , 0.        ,\n",
       "       0.        , 0.        , 0.        , 0.        , 0.        ,\n",
       "       0.        , 0.        , 0.        , 0.        , 0.        ,\n",
       "       0.        , 0.        , 0.        , 0.        , 0.        ,\n",
       "       0.        , 0.        , 0.        , 0.        , 0.        ,\n",
       "       0.        , 0.        , 0.        , 0.        , 0.        ,\n",
       "       0.        , 0.        , 0.        , 0.        , 0.        ,\n",
       "       0.        , 0.        , 0.        , 0.        , 0.        ,\n",
       "       0.        , 0.        , 0.        , 0.        , 0.        ,\n",
       "       0.        , 0.        , 0.        , 0.        , 0.        ,\n",
       "       0.        , 0.        , 0.        , 0.        , 0.        ,\n",
       "       0.        , 0.        , 0.        , 0.        , 0.        ,\n",
       "       0.        , 0.        , 0.        , 0.        , 0.        ,\n",
       "       0.        , 0.        , 0.        , 0.        , 0.        ,\n",
       "       0.        , 0.        , 0.        , 0.        , 0.        ,\n",
       "       0.        , 0.        , 0.        , 0.        , 0.        ,\n",
       "       0.        , 0.        , 0.32941176, 0.7254902 , 0.62352941,\n",
       "       0.59215686, 0.23529412, 0.14117647, 0.        , 0.        ,\n",
       "       0.        , 0.        , 0.        , 0.        , 0.        ,\n",
       "       0.        , 0.        , 0.        , 0.        , 0.        ,\n",
       "       0.        , 0.        , 0.        , 0.        , 0.        ,\n",
       "       0.        , 0.        , 0.        , 0.        , 0.        ,\n",
       "       0.87058824, 0.99607843, 0.99607843, 0.99607843, 0.99607843,\n",
       "       0.94509804, 0.77647059, 0.77647059, 0.77647059, 0.77647059,\n",
       "       0.77647059, 0.77647059, 0.77647059, 0.77647059, 0.66666667,\n",
       "       0.20392157, 0.        , 0.        , 0.        , 0.        ,\n",
       "       0.        , 0.        , 0.        , 0.        , 0.        ,\n",
       "       0.        , 0.        , 0.        , 0.2627451 , 0.44705882,\n",
       "       0.28235294, 0.44705882, 0.63921569, 0.89019608, 0.99607843,\n",
       "       0.88235294, 0.99607843, 0.99607843, 0.99607843, 0.98039216,\n",
       "       0.89803922, 0.99607843, 0.99607843, 0.54901961, 0.        ,\n",
       "       0.        , 0.        , 0.        , 0.        , 0.        ,\n",
       "       0.        , 0.        , 0.        , 0.        , 0.        ,\n",
       "       0.        , 0.        , 0.        , 0.        , 0.        ,\n",
       "       0.        , 0.06666667, 0.25882353, 0.05490196, 0.2627451 ,\n",
       "       0.2627451 , 0.2627451 , 0.23137255, 0.08235294, 0.9254902 ,\n",
       "       0.99607843, 0.41568627, 0.        , 0.        , 0.        ,\n",
       "       0.        , 0.        , 0.        , 0.        , 0.        ,\n",
       "       0.        , 0.        , 0.        , 0.        , 0.        ,\n",
       "       0.        , 0.        , 0.        , 0.        , 0.        ,\n",
       "       0.        , 0.        , 0.        , 0.        , 0.        ,\n",
       "       0.        , 0.3254902 , 0.99215686, 0.81960784, 0.07058824,\n",
       "       0.        , 0.        , 0.        , 0.        , 0.        ,\n",
       "       0.        , 0.        , 0.        , 0.        , 0.        ,\n",
       "       0.        , 0.        , 0.        , 0.        , 0.        ,\n",
       "       0.        , 0.        , 0.        , 0.        , 0.        ,\n",
       "       0.        , 0.        , 0.        , 0.08627451, 0.91372549,\n",
       "       1.        , 0.3254902 , 0.        , 0.        , 0.        ,\n",
       "       0.        , 0.        , 0.        , 0.        , 0.        ,\n",
       "       0.        , 0.        , 0.        , 0.        , 0.        ,\n",
       "       0.        , 0.        , 0.        , 0.        , 0.        ,\n",
       "       0.        , 0.        , 0.        , 0.        , 0.        ,\n",
       "       0.        , 0.50588235, 0.99607843, 0.93333333, 0.17254902,\n",
       "       0.        , 0.        , 0.        , 0.        , 0.        ,\n",
       "       0.        , 0.        , 0.        , 0.        , 0.        ,\n",
       "       0.        , 0.        , 0.        , 0.        , 0.        ,\n",
       "       0.        , 0.        , 0.        , 0.        , 0.        ,\n",
       "       0.        , 0.        , 0.        , 0.23137255, 0.97647059,\n",
       "       0.99607843, 0.24313725, 0.        , 0.        , 0.        ,\n",
       "       0.        , 0.        , 0.        , 0.        , 0.        ,\n",
       "       0.        , 0.        , 0.        , 0.        , 0.        ,\n",
       "       0.        , 0.        , 0.        , 0.        , 0.        ,\n",
       "       0.        , 0.        , 0.        , 0.        , 0.        ,\n",
       "       0.        , 0.52156863, 0.99607843, 0.73333333, 0.01960784,\n",
       "       0.        , 0.        , 0.        , 0.        , 0.        ,\n",
       "       0.        , 0.        , 0.        , 0.        , 0.        ,\n",
       "       0.        , 0.        , 0.        , 0.        , 0.        ,\n",
       "       0.        , 0.        , 0.        , 0.        , 0.        ,\n",
       "       0.        , 0.        , 0.        , 0.03529412, 0.80392157,\n",
       "       0.97254902, 0.22745098, 0.        , 0.        , 0.        ,\n",
       "       0.        , 0.        , 0.        , 0.        , 0.        ,\n",
       "       0.        , 0.        , 0.        , 0.        , 0.        ,\n",
       "       0.        , 0.        , 0.        , 0.        , 0.        ,\n",
       "       0.        , 0.        , 0.        , 0.        , 0.        ,\n",
       "       0.        , 0.49411765, 0.99607843, 0.71372549, 0.        ,\n",
       "       0.        , 0.        , 0.        , 0.        , 0.        ,\n",
       "       0.        , 0.        , 0.        , 0.        , 0.        ,\n",
       "       0.        , 0.        , 0.        , 0.        , 0.        ,\n",
       "       0.        , 0.        , 0.        , 0.        , 0.        ,\n",
       "       0.        , 0.        , 0.        , 0.29411765, 0.98431373,\n",
       "       0.94117647, 0.22352941, 0.        , 0.        , 0.        ,\n",
       "       0.        , 0.        , 0.        , 0.        , 0.        ,\n",
       "       0.        , 0.        , 0.        , 0.        , 0.        ,\n",
       "       0.        , 0.        , 0.        , 0.        , 0.        ,\n",
       "       0.        , 0.        , 0.        , 0.        , 0.        ,\n",
       "       0.0745098 , 0.86666667, 0.99607843, 0.65098039, 0.        ,\n",
       "       0.        , 0.        , 0.        , 0.        , 0.        ,\n",
       "       0.        , 0.        , 0.        , 0.        , 0.        ,\n",
       "       0.        , 0.        , 0.        , 0.        , 0.        ,\n",
       "       0.        , 0.        , 0.        , 0.        , 0.        ,\n",
       "       0.        , 0.        , 0.01176471, 0.79607843, 0.99607843,\n",
       "       0.85882353, 0.1372549 , 0.        , 0.        , 0.        ,\n",
       "       0.        , 0.        , 0.        , 0.        , 0.        ,\n",
       "       0.        , 0.        , 0.        , 0.        , 0.        ,\n",
       "       0.        , 0.        , 0.        , 0.        , 0.        ,\n",
       "       0.        , 0.        , 0.        , 0.        , 0.        ,\n",
       "       0.14901961, 0.99607843, 0.99607843, 0.30196078, 0.        ,\n",
       "       0.        , 0.        , 0.        , 0.        , 0.        ,\n",
       "       0.        , 0.        , 0.        , 0.        , 0.        ,\n",
       "       0.        , 0.        , 0.        , 0.        , 0.        ,\n",
       "       0.        , 0.        , 0.        , 0.        , 0.        ,\n",
       "       0.        , 0.        , 0.12156863, 0.87843137, 0.99607843,\n",
       "       0.45098039, 0.00392157, 0.        , 0.        , 0.        ,\n",
       "       0.        , 0.        , 0.        , 0.        , 0.        ,\n",
       "       0.        , 0.        , 0.        , 0.        , 0.        ,\n",
       "       0.        , 0.        , 0.        , 0.        , 0.        ,\n",
       "       0.        , 0.        , 0.        , 0.        , 0.        ,\n",
       "       0.52156863, 0.99607843, 0.99607843, 0.20392157, 0.        ,\n",
       "       0.        , 0.        , 0.        , 0.        , 0.        ,\n",
       "       0.        , 0.        , 0.        , 0.        , 0.        ,\n",
       "       0.        , 0.        , 0.        , 0.        , 0.        ,\n",
       "       0.        , 0.        , 0.        , 0.        , 0.        ,\n",
       "       0.        , 0.        , 0.23921569, 0.94901961, 0.99607843,\n",
       "       0.99607843, 0.20392157, 0.        , 0.        , 0.        ,\n",
       "       0.        , 0.        , 0.        , 0.        , 0.        ,\n",
       "       0.        , 0.        , 0.        , 0.        , 0.        ,\n",
       "       0.        , 0.        , 0.        , 0.        , 0.        ,\n",
       "       0.        , 0.        , 0.        , 0.        , 0.        ,\n",
       "       0.4745098 , 0.99607843, 0.99607843, 0.85882353, 0.15686275,\n",
       "       0.        , 0.        , 0.        , 0.        , 0.        ,\n",
       "       0.        , 0.        , 0.        , 0.        , 0.        ,\n",
       "       0.        , 0.        , 0.        , 0.        , 0.        ,\n",
       "       0.        , 0.        , 0.        , 0.        , 0.        ,\n",
       "       0.        , 0.        , 0.        , 0.4745098 , 0.99607843,\n",
       "       0.81176471, 0.07058824, 0.        , 0.        , 0.        ,\n",
       "       0.        , 0.        , 0.        , 0.        , 0.        ,\n",
       "       0.        , 0.        , 0.        , 0.        , 0.        ,\n",
       "       0.        , 0.        , 0.        , 0.        , 0.        ,\n",
       "       0.        , 0.        , 0.        , 0.        , 0.        ,\n",
       "       0.        , 0.        , 0.        , 0.        , 0.        ,\n",
       "       0.        , 0.        , 0.        , 0.        , 0.        ,\n",
       "       0.        , 0.        , 0.        , 0.        , 0.        ,\n",
       "       0.        , 0.        , 0.        , 0.        ])"
      ]
     },
     "execution_count": 24,
     "metadata": {},
     "output_type": "execute_result"
    }
   ],
   "source": [
    "X_test_flattened[0]"
   ]
  },
  {
   "cell_type": "markdown",
   "id": "fb2cd482",
   "metadata": {},
   "source": [
    "## Creating Neural Network"
   ]
  },
  {
   "cell_type": "code",
   "execution_count": 25,
   "id": "5bdca41e",
   "metadata": {},
   "outputs": [
    {
     "name": "stdout",
     "output_type": "stream",
     "text": [
      "Epoch 1/5\n",
      "1875/1875 [==============================] - 4s 2ms/step - loss: 0.4731 - accuracy: 0.8760\n",
      "Epoch 2/5\n",
      "1875/1875 [==============================] - 3s 2ms/step - loss: 0.3040 - accuracy: 0.9148\n",
      "Epoch 3/5\n",
      "1875/1875 [==============================] - 4s 2ms/step - loss: 0.2838 - accuracy: 0.9207\n",
      "Epoch 4/5\n",
      "1875/1875 [==============================] - 4s 2ms/step - loss: 0.2735 - accuracy: 0.9239\n",
      "Epoch 5/5\n",
      "1875/1875 [==============================] - 5s 3ms/step - loss: 0.2670 - accuracy: 0.9253\n"
     ]
    },
    {
     "data": {
      "text/plain": [
       "<keras.callbacks.History at 0x1e1162409a0>"
      ]
     },
     "execution_count": 25,
     "metadata": {},
     "output_type": "execute_result"
    }
   ],
   "source": [
    "model = keras.Sequential([\n",
    "    keras.layers.Dense(10,input_shape=(784,),activation = 'sigmoid')\n",
    "])\n",
    "# sequential means stack of layers in neural network\n",
    "# take every layer as one element\n",
    "# it has 10 output values, by taking 784 inputs, having activation as sigmoid\n",
    "\n",
    "# compline the neural network\n",
    "\n",
    "model.compile(\n",
    "    optimizer = 'adam', \n",
    "    loss = 'sparse_categorical_crossentropy',\n",
    "    metrics = ['accuracy']\n",
    ")\n",
    "\n",
    "# adam is a type of optimizer which helps us to reach global optima\n",
    "# loss function : mean sq error or R square error \n",
    "\n",
    "\n",
    "model.fit(X_train_flattened, y_train, epochs = 5)\n",
    "# training model on X_train_flattend and Y_train, epoches = 5\n"
   ]
  },
  {
   "cell_type": "code",
   "execution_count": 28,
   "id": "1d1c121d",
   "metadata": {},
   "outputs": [
    {
     "name": "stdout",
     "output_type": "stream",
     "text": [
      "313/313 [==============================] - 1s 1ms/step - loss: 0.2651 - accuracy: 0.9260\n"
     ]
    },
    {
     "data": {
      "text/plain": [
       "[0.2651357352733612, 0.9259999990463257]"
      ]
     },
     "execution_count": 28,
     "metadata": {},
     "output_type": "execute_result"
    }
   ],
   "source": [
    "# evaluate model to test data\n",
    "\n",
    "model.evaluate(X_test_flattened, y_test)"
   ]
  },
  {
   "cell_type": "code",
   "execution_count": 33,
   "id": "c236aa36",
   "metadata": {},
   "outputs": [
    {
     "data": {
      "text/plain": [
       "<matplotlib.image.AxesImage at 0x1e144454460>"
      ]
     },
     "execution_count": 33,
     "metadata": {},
     "output_type": "execute_result"
    },
    {
     "data": {
      "image/png": "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\n",
      "text/plain": [
       "<Figure size 288x288 with 1 Axes>"
      ]
     },
     "metadata": {
      "needs_background": "light"
     },
     "output_type": "display_data"
    }
   ],
   "source": [
    "plt.matshow(X_test[0])"
   ]
  },
  {
   "cell_type": "code",
   "execution_count": 35,
   "id": "22bea412",
   "metadata": {},
   "outputs": [
    {
     "name": "stdout",
     "output_type": "stream",
     "text": [
      "313/313 [==============================] - 1s 2ms/step\n"
     ]
    }
   ],
   "source": [
    "y_predicted = model.predict(X_test_flattened)"
   ]
  },
  {
   "cell_type": "code",
   "execution_count": 37,
   "id": "6d708952",
   "metadata": {},
   "outputs": [
    {
     "data": {
      "text/plain": [
       "array([2.1636073e-02, 3.0389847e-07, 3.8819306e-02, 9.5583844e-01,\n",
       "       2.0252918e-03, 1.3237859e-01, 1.0735196e-06, 9.9981916e-01,\n",
       "       8.6368106e-02, 7.1252626e-01], dtype=float32)"
      ]
     },
     "execution_count": 37,
     "metadata": {},
     "output_type": "execute_result"
    }
   ],
   "source": [
    "y_predicted[0]"
   ]
  },
  {
   "cell_type": "code",
   "execution_count": 38,
   "id": "a579b42d",
   "metadata": {
    "scrolled": true
   },
   "outputs": [
    {
     "data": {
      "text/plain": [
       "7"
      ]
     },
     "execution_count": 38,
     "metadata": {},
     "output_type": "execute_result"
    }
   ],
   "source": [
    "np.argmax(y_predicted[0])"
   ]
  },
  {
   "cell_type": "code",
   "execution_count": 40,
   "id": "b5b54a25",
   "metadata": {},
   "outputs": [
    {
     "data": {
      "text/plain": [
       "[7, 2, 1, 0, 4]"
      ]
     },
     "execution_count": 40,
     "metadata": {},
     "output_type": "execute_result"
    }
   ],
   "source": [
    "y_predicted_labels = [np.argmax(i) for i in y_predicted]\n",
    "y_predicted_labels[:5]"
   ]
  },
  {
   "cell_type": "code",
   "execution_count": 41,
   "id": "22953907",
   "metadata": {},
   "outputs": [
    {
     "data": {
      "text/plain": [
       "array([7, 2, 1, 0, 4], dtype=uint8)"
      ]
     },
     "execution_count": 41,
     "metadata": {},
     "output_type": "execute_result"
    }
   ],
   "source": [
    "y_test[:5]"
   ]
  },
  {
   "cell_type": "code",
   "execution_count": 44,
   "id": "d836051d",
   "metadata": {},
   "outputs": [
    {
     "data": {
      "text/plain": [
       "<tf.Tensor: shape=(10, 10), dtype=int32, numpy=\n",
       "array([[ 961,    0,    1,    2,    0,    5,    6,    3,    2,    0],\n",
       "       [   0, 1109,    3,    2,    0,    1,    4,    2,   14,    0],\n",
       "       [   7,    9,  917,   19,    9,    5,   12,   12,   37,    5],\n",
       "       [   4,    0,   17,  919,    0,   29,    2,   11,   20,    8],\n",
       "       [   2,    1,    2,    1,  916,    0,    9,    4,   10,   37],\n",
       "       [   8,    3,    3,   27,   10,  784,   13,    9,   28,    7],\n",
       "       [  10,    3,    7,    1,    8,   13,  911,    2,    3,    0],\n",
       "       [   1,    5,   20,    5,    5,    0,    0,  962,    3,   27],\n",
       "       [   5,    8,    5,   22,    9,   31,    8,   13,  867,    6],\n",
       "       [  11,    7,    1,   10,   24,    7,    0,   31,    4,  914]])>"
      ]
     },
     "execution_count": 44,
     "metadata": {},
     "output_type": "execute_result"
    }
   ],
   "source": [
    "# confusion matrix\n",
    "\n",
    "matrix = tf.math.confusion_matrix(labels = y_test, predictions = y_predicted_labels )\n",
    "matrix"
   ]
  },
  {
   "cell_type": "markdown",
   "id": "ea009a3d",
   "metadata": {},
   "source": [
    "### Visualization "
   ]
  },
  {
   "cell_type": "code",
   "execution_count": 48,
   "id": "6e3d1861",
   "metadata": {},
   "outputs": [
    {
     "data": {
      "image/png": "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\n",
      "text/plain": [
       "<Figure size 1152x648 with 2 Axes>"
      ]
     },
     "metadata": {
      "needs_background": "light"
     },
     "output_type": "display_data"
    }
   ],
   "source": [
    "import seaborn as sn\n",
    "plt.figure(figsize = (16,9))\n",
    "sn.heatmap(matrix, annot = True, fmt = 'd')\n",
    "plt.xlabel(\"Predicted\")\n",
    "plt.ylabel(\"Truth\")\n",
    "plt.show()\n",
    "\n",
    "\n",
    "# all elements other than diagonals are errors"
   ]
  },
  {
   "cell_type": "code",
   "execution_count": 49,
   "id": "3826a4bf",
   "metadata": {},
   "outputs": [
    {
     "name": "stdout",
     "output_type": "stream",
     "text": [
      "Epoch 1/5\n",
      "1875/1875 [==============================] - 8s 4ms/step - loss: 0.2688 - accuracy: 0.9243\n",
      "Epoch 2/5\n",
      "1875/1875 [==============================] - 5s 3ms/step - loss: 0.1217 - accuracy: 0.9644\n",
      "Epoch 3/5\n",
      "1875/1875 [==============================] - 5s 3ms/step - loss: 0.0841 - accuracy: 0.9752\n",
      "Epoch 4/5\n",
      "1875/1875 [==============================] - 5s 3ms/step - loss: 0.0646 - accuracy: 0.9806\n",
      "Epoch 5/5\n",
      "1875/1875 [==============================] - 5s 3ms/step - loss: 0.0510 - accuracy: 0.9844\n"
     ]
    },
    {
     "data": {
      "text/plain": [
       "<keras.callbacks.History at 0x1e1308dc490>"
      ]
     },
     "execution_count": 49,
     "metadata": {},
     "output_type": "execute_result"
    }
   ],
   "source": [
    "model = keras.Sequential([\n",
    "    keras.layers.Dense(100,input_shape=(784,),activation = 'relu'),\n",
    "    keras.layers.Dense(10, activation = 'sigmoid')\n",
    "    \n",
    "])\n",
    "model.compile(\n",
    "    optimizer = 'adam', \n",
    "    loss = 'sparse_categorical_crossentropy',\n",
    "    metrics = ['accuracy']\n",
    ")\n",
    "model.fit(X_train_flattened, y_train, epochs = 5)"
   ]
  },
  {
   "cell_type": "code",
   "execution_count": 50,
   "id": "7ae9b3e6",
   "metadata": {},
   "outputs": [
    {
     "name": "stdout",
     "output_type": "stream",
     "text": [
      "313/313 [==============================] - 1s 2ms/step - loss: 0.0845 - accuracy: 0.9760\n"
     ]
    },
    {
     "data": {
      "text/plain": [
       "[0.0844753310084343, 0.9760000109672546]"
      ]
     },
     "execution_count": 50,
     "metadata": {},
     "output_type": "execute_result"
    }
   ],
   "source": [
    "model.evaluate(X_test_flattened, y_test)"
   ]
  },
  {
   "cell_type": "code",
   "execution_count": 51,
   "id": "5603d39a",
   "metadata": {},
   "outputs": [
    {
     "data": {
      "image/png": "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\n",
      "text/plain": [
       "<Figure size 1152x648 with 2 Axes>"
      ]
     },
     "metadata": {
      "needs_background": "light"
     },
     "output_type": "display_data"
    }
   ],
   "source": [
    "import seaborn as sn\n",
    "plt.figure(figsize = (16,9))\n",
    "sn.heatmap(matrix, annot = True, fmt = 'd')\n",
    "plt.xlabel(\"Predicted\")\n",
    "plt.ylabel(\"Truth\")\n",
    "plt.show()\n",
    "\n",
    "\n",
    "# all elements other than diagonals are errors"
   ]
  },
  {
   "cell_type": "code",
   "execution_count": 56,
   "id": "6ed8d20c",
   "metadata": {},
   "outputs": [
    {
     "name": "stdout",
     "output_type": "stream",
     "text": [
      "Epoch 1/5\n",
      "1875/1875 [==============================] - 6s 3ms/step - loss: 0.2942 - accuracy: 0.9157\n",
      "Epoch 2/5\n",
      "1875/1875 [==============================] - 5s 2ms/step - loss: 0.1464 - accuracy: 0.9578\n",
      "Epoch 3/5\n",
      "1875/1875 [==============================] - 4s 2ms/step - loss: 0.1029 - accuracy: 0.9703\n",
      "Epoch 4/5\n",
      "1875/1875 [==============================] - 4s 2ms/step - loss: 0.0781 - accuracy: 0.9771\n",
      "Epoch 5/5\n",
      "1875/1875 [==============================] - 4s 2ms/step - loss: 0.0609 - accuracy: 0.9826\n"
     ]
    },
    {
     "data": {
      "text/plain": [
       "<keras.callbacks.History at 0x1e1358feaf0>"
      ]
     },
     "execution_count": 56,
     "metadata": {},
     "output_type": "execute_result"
    }
   ],
   "source": [
    "model = keras.Sequential([\n",
    "    keras.layers.Flatten(input_shape = (28,28)),\n",
    "    keras.layers.Dense(100,activation = 'tanh'),\n",
    "    keras.layers.Dense(10, activation = 'sigmoid')\n",
    "# no need of flattened array \n",
    "])\n",
    "model.compile(\n",
    "    optimizer = 'adam', \n",
    "    loss = 'sparse_categorical_crossentropy',\n",
    "    metrics = ['accuracy']\n",
    ")\n",
    "model.fit(X_train, y_train, epochs = 5)"
   ]
  },
  {
   "cell_type": "code",
   "execution_count": 58,
   "id": "4b12726c",
   "metadata": {},
   "outputs": [
    {
     "name": "stdout",
     "output_type": "stream",
     "text": [
      "Epoch 1/5\n",
      "1875/1875 [==============================] - 6s 3ms/step - loss: 0.2607 - accuracy: 0.9254\n",
      "Epoch 2/5\n",
      "1875/1875 [==============================] - 5s 2ms/step - loss: 0.1198 - accuracy: 0.9639\n",
      "Epoch 3/5\n",
      "1875/1875 [==============================] - 4s 2ms/step - loss: 0.0828 - accuracy: 0.9746\n",
      "Epoch 4/5\n",
      "1875/1875 [==============================] - 5s 3ms/step - loss: 0.0642 - accuracy: 0.9802\n",
      "Epoch 5/5\n",
      "1875/1875 [==============================] - 5s 3ms/step - loss: 0.0502 - accuracy: 0.9847\n"
     ]
    },
    {
     "data": {
      "text/plain": [
       "<keras.callbacks.History at 0x1e130d85df0>"
      ]
     },
     "execution_count": 58,
     "metadata": {},
     "output_type": "execute_result"
    }
   ],
   "source": [
    "model = keras.Sequential([\n",
    "    keras.layers.Flatten(input_shape = (28,28)),\n",
    "    keras.layers.Dense(100,activation = 'relu'),\n",
    "    keras.layers.Dense(10, activation = 'sigmoid')\n",
    "# no need of flattened array \n",
    "])\n",
    "model.compile(\n",
    "    optimizer = 'adam', \n",
    "    loss = 'sparse_categorical_crossentropy',\n",
    "    metrics = ['accuracy']\n",
    ")\n",
    "model.fit(X_train, y_train, epochs = 5)"
   ]
  },
  {
   "cell_type": "code",
   "execution_count": null,
   "id": "1870a490",
   "metadata": {},
   "outputs": [],
   "source": []
  }
 ],
 "metadata": {
  "kernelspec": {
   "display_name": "Python 3 (ipykernel)",
   "language": "python",
   "name": "python3"
  },
  "language_info": {
   "codemirror_mode": {
    "name": "ipython",
    "version": 3
   },
   "file_extension": ".py",
   "mimetype": "text/x-python",
   "name": "